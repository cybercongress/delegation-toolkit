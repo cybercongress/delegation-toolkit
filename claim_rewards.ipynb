{
 "cells": [
  {
   "cell_type": "code",
   "execution_count": 1,
   "metadata": {
    "collapsed": true,
    "ExecuteTime": {
     "end_time": "2023-07-13T05:13:15.077693Z",
     "start_time": "2023-07-13T05:13:14.432519Z"
    }
   },
   "outputs": [],
   "source": [
    "import pandas as pd\n",
    "import requests\n",
    "from math import ceil\n",
    "import json\n",
    "\n",
    "from cyber_sdk.core.distribution.msgs import MsgWithdrawDelegationReward\n",
    "from cyber_sdk.core.bech32 import AccAddress, ValAddress\n",
    "from cyber_sdk.client.lcd import LCDClient\n",
    "\n",
    "from src.tx import get_tx\n",
    "from config import DELEGATOR_ADDRESS, LCD_API\n",
    "\n",
    "MSGS_IN_TX = 16\n",
    "CLAIMED_REWARDS = 48\n",
    "INITIAL_SEQUENCE = 236\n",
    "\n",
    "cyber = LCDClient(\"https://lcd.bostrom.cybernode.ai/\", \"bostrom\")"
   ]
  },
  {
   "cell_type": "code",
   "execution_count": 2,
   "outputs": [
    {
     "name": "stdout",
     "output_type": "stream",
     "text": [
      "Total claimable reward  1,311,567,041,445\n",
      "Total top48 reward      1,155,883,354,524\n"
     ]
    }
   ],
   "source": [
    "rewards_raw = \\\n",
    "    requests.get(LCD_API + f'/cosmos/distribution/v1beta1/delegators/{DELEGATOR_ADDRESS}/rewards?pagination.limit=1000').json()\n",
    "rewards_df = pd.DataFrame(rewards_raw['rewards'])\n",
    "rewards_df.loc[:, 'reward_amount'] = rewards_df['reward'].map(lambda x: float(x[0]['amount']) if len(x) > 0 and x[0]['denom'] == 'boot' else 0)\n",
    "\n",
    "top_rewards_df = rewards_df.sort_values('reward_amount', ascending=False).head(CLAIMED_REWARDS)\n",
    "validators_list = top_rewards_df.validator_address.to_list()\n",
    "\n",
    "print(f'Total claimable reward {int(sum(rewards_df.reward_amount)):>18,}')\n",
    "print(f'Total top{CLAIMED_REWARDS} reward     {int(sum(top_rewards_df.reward_amount)):>18,}')"
   ],
   "metadata": {
    "collapsed": false,
    "ExecuteTime": {
     "end_time": "2023-07-13T05:13:16.706270Z",
     "start_time": "2023-07-13T05:13:15.079560Z"
    }
   }
  },
  {
   "cell_type": "code",
   "execution_count": 3,
   "outputs": [],
   "source": [
    "counter = ceil(len(validators_list) / MSGS_IN_TX)\n",
    "for i in range(counter):\n",
    "    msgs = [\n",
    "        MsgWithdrawDelegationReward(\n",
    "            delegator_address=AccAddress(DELEGATOR_ADDRESS),\n",
    "            validator_address=ValAddress(_validator_address)).to_data()\n",
    "        for _validator_address in validators_list[i * MSGS_IN_TX: min((i + 1) * MSGS_IN_TX, len(validators_list))]]\n",
    "    tx = get_tx(\n",
    "        messages=msgs,\n",
    "        memo='',\n",
    "        gas_limit=5_000_000)\n",
    "    with open(f\"txs/{INITIAL_SEQUENCE + i}_unsigned_reward_{i}.json\", \"w\") as fp:\n",
    "        json.dump(tx, fp, indent=4)"
   ],
   "metadata": {
    "collapsed": false,
    "ExecuteTime": {
     "end_time": "2023-07-13T05:13:16.711394Z",
     "start_time": "2023-07-13T05:13:16.707847Z"
    }
   }
  }
 ],
 "metadata": {
  "kernelspec": {
   "display_name": "Python 3",
   "language": "python",
   "name": "python3"
  },
  "language_info": {
   "codemirror_mode": {
    "name": "ipython",
    "version": 2
   },
   "file_extension": ".py",
   "mimetype": "text/x-python",
   "name": "python",
   "nbconvert_exporter": "python",
   "pygments_lexer": "ipython2",
   "version": "2.7.6"
  }
 },
 "nbformat": 4,
 "nbformat_minor": 0
}
